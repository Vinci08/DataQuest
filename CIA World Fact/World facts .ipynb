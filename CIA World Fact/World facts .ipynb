{
 "cells": [
  {
   "cell_type": "markdown",
   "metadata": {},
   "source": [
    "INTRODUCTION"
   ]
  },
  {
   "cell_type": "code",
   "execution_count": 2,
   "metadata": {
    "collapsed": false
   },
   "outputs": [
    {
     "data": {
      "text/html": [
       "<div>\n",
       "<table border=\"1\" class=\"dataframe\">\n",
       "  <thead>\n",
       "    <tr style=\"text-align: right;\">\n",
       "      <th></th>\n",
       "      <th>type</th>\n",
       "      <th>name</th>\n",
       "      <th>tbl_name</th>\n",
       "      <th>rootpage</th>\n",
       "      <th>sql</th>\n",
       "    </tr>\n",
       "  </thead>\n",
       "  <tbody>\n",
       "    <tr>\n",
       "      <th>0</th>\n",
       "      <td>table</td>\n",
       "      <td>sqlite_sequence</td>\n",
       "      <td>sqlite_sequence</td>\n",
       "      <td>3</td>\n",
       "      <td>CREATE TABLE sqlite_sequence(name,seq)</td>\n",
       "    </tr>\n",
       "    <tr>\n",
       "      <th>1</th>\n",
       "      <td>table</td>\n",
       "      <td>facts</td>\n",
       "      <td>facts</td>\n",
       "      <td>47</td>\n",
       "      <td>CREATE TABLE \"facts\" (\"id\" INTEGER PRIMARY KEY...</td>\n",
       "    </tr>\n",
       "  </tbody>\n",
       "</table>\n",
       "</div>"
      ],
      "text/plain": [
       "    type             name         tbl_name  rootpage  \\\n",
       "0  table  sqlite_sequence  sqlite_sequence         3   \n",
       "1  table            facts            facts        47   \n",
       "\n",
       "                                                 sql  \n",
       "0             CREATE TABLE sqlite_sequence(name,seq)  \n",
       "1  CREATE TABLE \"facts\" (\"id\" INTEGER PRIMARY KEY...  "
      ]
     },
     "execution_count": 2,
     "metadata": {},
     "output_type": "execute_result"
    }
   ],
   "source": [
    "# Intro\n",
    "\n",
    "import sqlite3\n",
    "import pandas as pd\n",
    "\n",
    "conn = sqlite3.connect(\"factbook.db\")\n",
    "cursor = conn.cursor()\n",
    "\n",
    "q = \"SELECT * FROM sqlite_master WHERE type='table'\"\n",
    "pd.read_sql_query(q, conn)"
   ]
  },
  {
   "cell_type": "code",
   "execution_count": 3,
   "metadata": {
    "collapsed": false
   },
   "outputs": [
    {
     "data": {
      "text/html": [
       "<div>\n",
       "<table border=\"1\" class=\"dataframe\">\n",
       "  <thead>\n",
       "    <tr style=\"text-align: right;\">\n",
       "      <th></th>\n",
       "      <th>id</th>\n",
       "      <th>code</th>\n",
       "      <th>name</th>\n",
       "      <th>area</th>\n",
       "      <th>area_land</th>\n",
       "      <th>area_water</th>\n",
       "      <th>population</th>\n",
       "      <th>population_growth</th>\n",
       "      <th>birth_rate</th>\n",
       "      <th>death_rate</th>\n",
       "      <th>migration_rate</th>\n",
       "    </tr>\n",
       "  </thead>\n",
       "  <tbody>\n",
       "    <tr>\n",
       "      <th>0</th>\n",
       "      <td>1</td>\n",
       "      <td>af</td>\n",
       "      <td>Afghanistan</td>\n",
       "      <td>652230</td>\n",
       "      <td>652230</td>\n",
       "      <td>0</td>\n",
       "      <td>32564342</td>\n",
       "      <td>2.32</td>\n",
       "      <td>38.57</td>\n",
       "      <td>13.89</td>\n",
       "      <td>1.51</td>\n",
       "    </tr>\n",
       "    <tr>\n",
       "      <th>1</th>\n",
       "      <td>2</td>\n",
       "      <td>al</td>\n",
       "      <td>Albania</td>\n",
       "      <td>28748</td>\n",
       "      <td>27398</td>\n",
       "      <td>1350</td>\n",
       "      <td>3029278</td>\n",
       "      <td>0.30</td>\n",
       "      <td>12.92</td>\n",
       "      <td>6.58</td>\n",
       "      <td>3.30</td>\n",
       "    </tr>\n",
       "    <tr>\n",
       "      <th>2</th>\n",
       "      <td>3</td>\n",
       "      <td>ag</td>\n",
       "      <td>Algeria</td>\n",
       "      <td>2381741</td>\n",
       "      <td>2381741</td>\n",
       "      <td>0</td>\n",
       "      <td>39542166</td>\n",
       "      <td>1.84</td>\n",
       "      <td>23.67</td>\n",
       "      <td>4.31</td>\n",
       "      <td>0.92</td>\n",
       "    </tr>\n",
       "    <tr>\n",
       "      <th>3</th>\n",
       "      <td>4</td>\n",
       "      <td>an</td>\n",
       "      <td>Andorra</td>\n",
       "      <td>468</td>\n",
       "      <td>468</td>\n",
       "      <td>0</td>\n",
       "      <td>85580</td>\n",
       "      <td>0.12</td>\n",
       "      <td>8.13</td>\n",
       "      <td>6.96</td>\n",
       "      <td>0.00</td>\n",
       "    </tr>\n",
       "    <tr>\n",
       "      <th>4</th>\n",
       "      <td>5</td>\n",
       "      <td>ao</td>\n",
       "      <td>Angola</td>\n",
       "      <td>1246700</td>\n",
       "      <td>1246700</td>\n",
       "      <td>0</td>\n",
       "      <td>19625353</td>\n",
       "      <td>2.78</td>\n",
       "      <td>38.78</td>\n",
       "      <td>11.49</td>\n",
       "      <td>0.46</td>\n",
       "    </tr>\n",
       "  </tbody>\n",
       "</table>\n",
       "</div>"
      ],
      "text/plain": [
       "   id code         name     area  area_land  area_water  population  \\\n",
       "0   1   af  Afghanistan   652230     652230           0    32564342   \n",
       "1   2   al      Albania    28748      27398        1350     3029278   \n",
       "2   3   ag      Algeria  2381741    2381741           0    39542166   \n",
       "3   4   an      Andorra      468        468           0       85580   \n",
       "4   5   ao       Angola  1246700    1246700           0    19625353   \n",
       "\n",
       "   population_growth  birth_rate  death_rate  migration_rate  \n",
       "0               2.32       38.57       13.89            1.51  \n",
       "1               0.30       12.92        6.58            3.30  \n",
       "2               1.84       23.67        4.31            0.92  \n",
       "3               0.12        8.13        6.96            0.00  \n",
       "4               2.78       38.78       11.49            0.46  "
      ]
     },
     "execution_count": 3,
     "metadata": {},
     "output_type": "execute_result"
    }
   ],
   "source": [
    "q1 = \"SELECT * FROM facts LIMIT 5\"\n",
    "pd.read_sql_query(q1, conn)"
   ]
  },
  {
   "cell_type": "markdown",
   "metadata": {},
   "source": [
    "SUMMARY STATISTICS"
   ]
  },
  {
   "cell_type": "code",
   "execution_count": 4,
   "metadata": {
    "collapsed": false
   },
   "outputs": [
    {
     "data": {
      "text/html": [
       "<div>\n",
       "<table border=\"1\" class=\"dataframe\">\n",
       "  <thead>\n",
       "    <tr style=\"text-align: right;\">\n",
       "      <th></th>\n",
       "      <th>MIN(population)</th>\n",
       "      <th>MAX(population)</th>\n",
       "      <th>MIN(population_growth)</th>\n",
       "      <th>MAX(population_growth)</th>\n",
       "    </tr>\n",
       "  </thead>\n",
       "  <tbody>\n",
       "    <tr>\n",
       "      <th>0</th>\n",
       "      <td>0</td>\n",
       "      <td>7256490011</td>\n",
       "      <td>0.0</td>\n",
       "      <td>4.02</td>\n",
       "    </tr>\n",
       "  </tbody>\n",
       "</table>\n",
       "</div>"
      ],
      "text/plain": [
       "   MIN(population)  MAX(population)  MIN(population_growth)  \\\n",
       "0                0       7256490011                     0.0   \n",
       "\n",
       "   MAX(population_growth)  \n",
       "0                    4.02  "
      ]
     },
     "execution_count": 4,
     "metadata": {},
     "output_type": "execute_result"
    }
   ],
   "source": [
    "q3 = \"Select MIN(population), MAX(population), MIN(population_growth), MAX(population_growth) from facts\"\n",
    "pd.read_sql_query(q3, conn)"
   ]
  },
  {
   "cell_type": "code",
   "execution_count": 5,
   "metadata": {
    "collapsed": false
   },
   "outputs": [
    {
     "data": {
      "text/html": [
       "<div>\n",
       "<table border=\"1\" class=\"dataframe\">\n",
       "  <thead>\n",
       "    <tr style=\"text-align: right;\">\n",
       "      <th></th>\n",
       "      <th>name</th>\n",
       "    </tr>\n",
       "  </thead>\n",
       "  <tbody>\n",
       "    <tr>\n",
       "      <th>0</th>\n",
       "      <td>Antarctica</td>\n",
       "    </tr>\n",
       "  </tbody>\n",
       "</table>\n",
       "</div>"
      ],
      "text/plain": [
       "         name\n",
       "0  Antarctica"
      ]
     },
     "execution_count": 5,
     "metadata": {},
     "output_type": "execute_result"
    }
   ],
   "source": [
    "q4 = \"Select name from facts where population = 0\"\n",
    "pd.read_sql_query(q4, conn)"
   ]
  },
  {
   "cell_type": "code",
   "execution_count": 6,
   "metadata": {
    "collapsed": false
   },
   "outputs": [
    {
     "data": {
      "text/html": [
       "<div>\n",
       "<table border=\"1\" class=\"dataframe\">\n",
       "  <thead>\n",
       "    <tr style=\"text-align: right;\">\n",
       "      <th></th>\n",
       "      <th>name</th>\n",
       "    </tr>\n",
       "  </thead>\n",
       "  <tbody>\n",
       "    <tr>\n",
       "      <th>0</th>\n",
       "      <td>World</td>\n",
       "    </tr>\n",
       "  </tbody>\n",
       "</table>\n",
       "</div>"
      ],
      "text/plain": [
       "    name\n",
       "0  World"
      ]
     },
     "execution_count": 6,
     "metadata": {},
     "output_type": "execute_result"
    }
   ],
   "source": [
    "q5 = \"Select name from facts where population = 7256490011\"\n",
    "pd.read_sql_query(q5, conn)"
   ]
  },
  {
   "cell_type": "code",
   "execution_count": 7,
   "metadata": {
    "collapsed": false
   },
   "outputs": [
    {
     "data": {
      "text/plain": [
       "array([[<matplotlib.axes._subplots.AxesSubplot object at 0x7f6984106a90>,\n",
       "        <matplotlib.axes._subplots.AxesSubplot object at 0x7f6984070a58>],\n",
       "       [<matplotlib.axes._subplots.AxesSubplot object at 0x7f6984040f98>,\n",
       "        <matplotlib.axes._subplots.AxesSubplot object at 0x7f6921ce0240>]], dtype=object)"
      ]
     },
     "execution_count": 7,
     "metadata": {},
     "output_type": "execute_result"
    },
    {
     "data": {
      "text/plain": [
       "<matplotlib.figure.Figure at 0x7f6928823a90>"
      ]
     },
     "metadata": {},
     "output_type": "display_data"
    },
    {
     "data": {
      "image/png": "[encoded data removed]",
      "text/plain": [
       "<matplotlib.figure.Figure at 0x7f69840ff198>"
      ]
     },
     "metadata": {},
     "output_type": "display_data"
    }
   ],
   "source": [
    "# Histogram for population\n",
    "\n",
    "import matplotlib.pyplot as plt\n",
    "%matplotlib inline\n",
    "\n",
    "fig = plt.figure(figsize = [10,10])\n",
    "\n",
    "q6 = \"Select population, population_growth, birth_rate, death_rate from facts where population != (Select MIN(population) from facts) and population != (Select MAX(population) from facts)\"\n",
    "df = pd.read_sql_query(q6, conn)\n",
    "\n",
    "df.hist()"
   ]
  },
  {
   "cell_type": "code",
   "execution_count": 8,
   "metadata": {
    "collapsed": false
   },
   "outputs": [
    {
     "data": {
      "text/html": [
       "<div>\n",
       "<table border=\"1\" class=\"dataframe\">\n",
       "  <thead>\n",
       "    <tr style=\"text-align: right;\">\n",
       "      <th></th>\n",
       "      <th>name</th>\n",
       "      <th>population</th>\n",
       "      <th>area</th>\n",
       "      <th>pop_density</th>\n",
       "    </tr>\n",
       "  </thead>\n",
       "  <tbody>\n",
       "    <tr>\n",
       "      <th>0</th>\n",
       "      <td>Macau</td>\n",
       "      <td>592731</td>\n",
       "      <td>28</td>\n",
       "      <td>21168.964286</td>\n",
       "    </tr>\n",
       "    <tr>\n",
       "      <th>1</th>\n",
       "      <td>Monaco</td>\n",
       "      <td>30535</td>\n",
       "      <td>2</td>\n",
       "      <td>15267.500000</td>\n",
       "    </tr>\n",
       "    <tr>\n",
       "      <th>2</th>\n",
       "      <td>Singapore</td>\n",
       "      <td>5674472</td>\n",
       "      <td>697</td>\n",
       "      <td>8141.279770</td>\n",
       "    </tr>\n",
       "    <tr>\n",
       "      <th>3</th>\n",
       "      <td>Hong Kong</td>\n",
       "      <td>7141106</td>\n",
       "      <td>1108</td>\n",
       "      <td>6445.041516</td>\n",
       "    </tr>\n",
       "    <tr>\n",
       "      <th>4</th>\n",
       "      <td>Gaza Strip</td>\n",
       "      <td>1869055</td>\n",
       "      <td>360</td>\n",
       "      <td>5191.819444</td>\n",
       "    </tr>\n",
       "    <tr>\n",
       "      <th>5</th>\n",
       "      <td>Gibraltar</td>\n",
       "      <td>29258</td>\n",
       "      <td>6</td>\n",
       "      <td>4876.333333</td>\n",
       "    </tr>\n",
       "    <tr>\n",
       "      <th>6</th>\n",
       "      <td>Bahrain</td>\n",
       "      <td>1346613</td>\n",
       "      <td>760</td>\n",
       "      <td>1771.859211</td>\n",
       "    </tr>\n",
       "    <tr>\n",
       "      <th>7</th>\n",
       "      <td>Maldives</td>\n",
       "      <td>393253</td>\n",
       "      <td>298</td>\n",
       "      <td>1319.640940</td>\n",
       "    </tr>\n",
       "    <tr>\n",
       "      <th>8</th>\n",
       "      <td>Malta</td>\n",
       "      <td>413965</td>\n",
       "      <td>316</td>\n",
       "      <td>1310.015823</td>\n",
       "    </tr>\n",
       "    <tr>\n",
       "      <th>9</th>\n",
       "      <td>Bermuda</td>\n",
       "      <td>70196</td>\n",
       "      <td>54</td>\n",
       "      <td>1299.925926</td>\n",
       "    </tr>\n",
       "    <tr>\n",
       "      <th>10</th>\n",
       "      <td>Sint Maarten</td>\n",
       "      <td>39689</td>\n",
       "      <td>34</td>\n",
       "      <td>1167.323529</td>\n",
       "    </tr>\n",
       "    <tr>\n",
       "      <th>11</th>\n",
       "      <td>Bangladesh</td>\n",
       "      <td>168957745</td>\n",
       "      <td>148460</td>\n",
       "      <td>1138.069143</td>\n",
       "    </tr>\n",
       "    <tr>\n",
       "      <th>12</th>\n",
       "      <td>Guernsey</td>\n",
       "      <td>66080</td>\n",
       "      <td>78</td>\n",
       "      <td>847.179487</td>\n",
       "    </tr>\n",
       "    <tr>\n",
       "      <th>13</th>\n",
       "      <td>Jersey</td>\n",
       "      <td>97294</td>\n",
       "      <td>116</td>\n",
       "      <td>838.741379</td>\n",
       "    </tr>\n",
       "    <tr>\n",
       "      <th>14</th>\n",
       "      <td>Barbados</td>\n",
       "      <td>290604</td>\n",
       "      <td>430</td>\n",
       "      <td>675.823256</td>\n",
       "    </tr>\n",
       "    <tr>\n",
       "      <th>15</th>\n",
       "      <td>Mauritius</td>\n",
       "      <td>1339827</td>\n",
       "      <td>2040</td>\n",
       "      <td>656.777941</td>\n",
       "    </tr>\n",
       "    <tr>\n",
       "      <th>16</th>\n",
       "      <td>Taiwan</td>\n",
       "      <td>23415126</td>\n",
       "      <td>35980</td>\n",
       "      <td>650.781712</td>\n",
       "    </tr>\n",
       "    <tr>\n",
       "      <th>17</th>\n",
       "      <td>Aruba</td>\n",
       "      <td>112162</td>\n",
       "      <td>180</td>\n",
       "      <td>623.122222</td>\n",
       "    </tr>\n",
       "    <tr>\n",
       "      <th>18</th>\n",
       "      <td>Lebanon</td>\n",
       "      <td>6184701</td>\n",
       "      <td>10400</td>\n",
       "      <td>594.682788</td>\n",
       "    </tr>\n",
       "    <tr>\n",
       "      <th>19</th>\n",
       "      <td>Saint Martin</td>\n",
       "      <td>31754</td>\n",
       "      <td>54</td>\n",
       "      <td>588.037037</td>\n",
       "    </tr>\n",
       "  </tbody>\n",
       "</table>\n",
       "</div>"
      ],
      "text/plain": [
       "            name  population    area   pop_density\n",
       "0          Macau      592731      28  21168.964286\n",
       "1         Monaco       30535       2  15267.500000\n",
       "2      Singapore     5674472     697   8141.279770\n",
       "3      Hong Kong     7141106    1108   6445.041516\n",
       "4     Gaza Strip     1869055     360   5191.819444\n",
       "5      Gibraltar       29258       6   4876.333333\n",
       "6        Bahrain     1346613     760   1771.859211\n",
       "7       Maldives      393253     298   1319.640940\n",
       "8          Malta      413965     316   1310.015823\n",
       "9        Bermuda       70196      54   1299.925926\n",
       "10  Sint Maarten       39689      34   1167.323529\n",
       "11    Bangladesh   168957745  148460   1138.069143\n",
       "12      Guernsey       66080      78    847.179487\n",
       "13        Jersey       97294     116    838.741379\n",
       "14      Barbados      290604     430    675.823256\n",
       "15     Mauritius     1339827    2040    656.777941\n",
       "16        Taiwan    23415126   35980    650.781712\n",
       "17         Aruba      112162     180    623.122222\n",
       "18       Lebanon     6184701   10400    594.682788\n",
       "19  Saint Martin       31754      54    588.037037"
      ]
     },
     "execution_count": 8,
     "metadata": {},
     "output_type": "execute_result"
    }
   ],
   "source": [
    "# Countries with highest population density\n",
    "\n",
    "q7 = \"Select name, population, area, cast(population as float) / cast(area as float) pop_density from facts where population != (Select MIN(population) from facts) and population != (Select MAX(population) from facts) order by pop_density desc limit 20\"\n",
    "density = pd.read_sql_query(q7, conn)\n",
    "\n",
    "density"
   ]
  },
  {
   "cell_type": "code",
   "execution_count": 9,
   "metadata": {
    "collapsed": false
   },
   "outputs": [
    {
     "data": {
      "text/plain": [
       "(0, 25000)"
      ]
     },
     "execution_count": 9,
     "metadata": {},
     "output_type": "execute_result"
    },
    {
     "data": {
      "image/png": "[encoded data removed]",
      "text/plain": [
       "<matplotlib.figure.Figure at 0x7f6919ef2a90>"
      ]
     },
     "metadata": {},
     "output_type": "display_data"
    }
   ],
   "source": [
    "import seaborn as sns\n",
    "\n",
    "sns.kdeplot(density['pop_density'])\n",
    "plt.ylim(0, 0.0002)\n",
    "plt.xlim(0, 25000)"
   ]
  },
  {
   "cell_type": "code",
   "execution_count": 10,
   "metadata": {
    "collapsed": false
   },
   "outputs": [
    {
     "data": {
      "text/html": [
       "<div>\n",
       "<table border=\"1\" class=\"dataframe\">\n",
       "  <thead>\n",
       "    <tr style=\"text-align: right;\">\n",
       "      <th></th>\n",
       "      <th>name</th>\n",
       "      <th>area_land</th>\n",
       "      <th>area_water</th>\n",
       "      <th>land_water_ratio</th>\n",
       "    </tr>\n",
       "  </thead>\n",
       "  <tbody>\n",
       "    <tr>\n",
       "      <th>0</th>\n",
       "      <td>Bosnia and Herzegovina</td>\n",
       "      <td>51187</td>\n",
       "      <td>10</td>\n",
       "      <td>5118.700000</td>\n",
       "    </tr>\n",
       "    <tr>\n",
       "      <th>1</th>\n",
       "      <td>Niger</td>\n",
       "      <td>1266700</td>\n",
       "      <td>300</td>\n",
       "      <td>4222.333333</td>\n",
       "    </tr>\n",
       "    <tr>\n",
       "      <th>2</th>\n",
       "      <td>Morocco</td>\n",
       "      <td>446300</td>\n",
       "      <td>250</td>\n",
       "      <td>1785.200000</td>\n",
       "    </tr>\n",
       "    <tr>\n",
       "      <th>3</th>\n",
       "      <td>Guinea</td>\n",
       "      <td>245717</td>\n",
       "      <td>140</td>\n",
       "      <td>1755.121429</td>\n",
       "    </tr>\n",
       "    <tr>\n",
       "      <th>4</th>\n",
       "      <td>Costa Rica</td>\n",
       "      <td>51060</td>\n",
       "      <td>40</td>\n",
       "      <td>1276.500000</td>\n",
       "    </tr>\n",
       "    <tr>\n",
       "      <th>5</th>\n",
       "      <td>Djibouti</td>\n",
       "      <td>23180</td>\n",
       "      <td>20</td>\n",
       "      <td>1159.000000</td>\n",
       "    </tr>\n",
       "    <tr>\n",
       "      <th>6</th>\n",
       "      <td>Korea, North</td>\n",
       "      <td>120408</td>\n",
       "      <td>130</td>\n",
       "      <td>926.215385</td>\n",
       "    </tr>\n",
       "    <tr>\n",
       "      <th>7</th>\n",
       "      <td>Cyprus</td>\n",
       "      <td>9241</td>\n",
       "      <td>10</td>\n",
       "      <td>924.100000</td>\n",
       "    </tr>\n",
       "    <tr>\n",
       "      <th>8</th>\n",
       "      <td>Namibia</td>\n",
       "      <td>823290</td>\n",
       "      <td>1002</td>\n",
       "      <td>821.646707</td>\n",
       "    </tr>\n",
       "    <tr>\n",
       "      <th>9</th>\n",
       "      <td>Burkina Faso</td>\n",
       "      <td>273800</td>\n",
       "      <td>400</td>\n",
       "      <td>684.500000</td>\n",
       "    </tr>\n",
       "    <tr>\n",
       "      <th>10</th>\n",
       "      <td>Congo, Republic of the</td>\n",
       "      <td>341500</td>\n",
       "      <td>500</td>\n",
       "      <td>683.000000</td>\n",
       "    </tr>\n",
       "    <tr>\n",
       "      <th>11</th>\n",
       "      <td>Sierra Leone</td>\n",
       "      <td>71620</td>\n",
       "      <td>120</td>\n",
       "      <td>596.833333</td>\n",
       "    </tr>\n",
       "    <tr>\n",
       "      <th>12</th>\n",
       "      <td>Honduras</td>\n",
       "      <td>111890</td>\n",
       "      <td>200</td>\n",
       "      <td>559.450000</td>\n",
       "    </tr>\n",
       "    <tr>\n",
       "      <th>13</th>\n",
       "      <td>Iraq</td>\n",
       "      <td>437367</td>\n",
       "      <td>950</td>\n",
       "      <td>460.386316</td>\n",
       "    </tr>\n",
       "    <tr>\n",
       "      <th>14</th>\n",
       "      <td>Samoa</td>\n",
       "      <td>2821</td>\n",
       "      <td>10</td>\n",
       "      <td>282.100000</td>\n",
       "    </tr>\n",
       "    <tr>\n",
       "      <th>15</th>\n",
       "      <td>Malaysia</td>\n",
       "      <td>328657</td>\n",
       "      <td>1190</td>\n",
       "      <td>276.182353</td>\n",
       "    </tr>\n",
       "    <tr>\n",
       "      <th>16</th>\n",
       "      <td>South Africa</td>\n",
       "      <td>1214470</td>\n",
       "      <td>4620</td>\n",
       "      <td>262.872294</td>\n",
       "    </tr>\n",
       "    <tr>\n",
       "      <th>17</th>\n",
       "      <td>Peru</td>\n",
       "      <td>1279996</td>\n",
       "      <td>5220</td>\n",
       "      <td>245.209962</td>\n",
       "    </tr>\n",
       "    <tr>\n",
       "      <th>18</th>\n",
       "      <td>Thailand</td>\n",
       "      <td>510890</td>\n",
       "      <td>2230</td>\n",
       "      <td>229.098655</td>\n",
       "    </tr>\n",
       "    <tr>\n",
       "      <th>19</th>\n",
       "      <td>Mauritius</td>\n",
       "      <td>2030</td>\n",
       "      <td>10</td>\n",
       "      <td>203.000000</td>\n",
       "    </tr>\n",
       "  </tbody>\n",
       "</table>\n",
       "</div>"
      ],
      "text/plain": [
       "                      name  area_land  area_water  land_water_ratio\n",
       "0   Bosnia and Herzegovina      51187          10       5118.700000\n",
       "1                    Niger    1266700         300       4222.333333\n",
       "2                  Morocco     446300         250       1785.200000\n",
       "3                   Guinea     245717         140       1755.121429\n",
       "4               Costa Rica      51060          40       1276.500000\n",
       "5                 Djibouti      23180          20       1159.000000\n",
       "6             Korea, North     120408         130        926.215385\n",
       "7                   Cyprus       9241          10        924.100000\n",
       "8                  Namibia     823290        1002        821.646707\n",
       "9             Burkina Faso     273800         400        684.500000\n",
       "10  Congo, Republic of the     341500         500        683.000000\n",
       "11            Sierra Leone      71620         120        596.833333\n",
       "12                Honduras     111890         200        559.450000\n",
       "13                    Iraq     437367         950        460.386316\n",
       "14                   Samoa       2821          10        282.100000\n",
       "15                Malaysia     328657        1190        276.182353\n",
       "16            South Africa    1214470        4620        262.872294\n",
       "17                    Peru    1279996        5220        245.209962\n",
       "18                Thailand     510890        2230        229.098655\n",
       "19               Mauritius       2030          10        203.000000"
      ]
     },
     "execution_count": 10,
     "metadata": {},
     "output_type": "execute_result"
    }
   ],
   "source": [
    "# Countries with highest ratios of water/land\n",
    "\n",
    "q8 = \"Select name, area_land, area_water, cast(area_land as float) / cast(area_water as float) land_water_ratio from facts order by land_water_ratio desc limit 20\"\n",
    "land_water = pd.read_sql_query(q8, conn)\n",
    "\n",
    "land_water"
   ]
  },
  {
   "cell_type": "code",
   "execution_count": 11,
   "metadata": {
    "collapsed": false
   },
   "outputs": [
    {
     "data": {
      "text/html": [
       "<div>\n",
       "<table border=\"1\" class=\"dataframe\">\n",
       "  <thead>\n",
       "    <tr style=\"text-align: right;\">\n",
       "      <th></th>\n",
       "      <th>name</th>\n",
       "      <th>water_ratio</th>\n",
       "    </tr>\n",
       "  </thead>\n",
       "  <tbody>\n",
       "    <tr>\n",
       "      <th>0</th>\n",
       "      <td>British Indian Ocean Territory</td>\n",
       "      <td>0.998897</td>\n",
       "    </tr>\n",
       "    <tr>\n",
       "      <th>1</th>\n",
       "      <td>Virgin Islands</td>\n",
       "      <td>0.818848</td>\n",
       "    </tr>\n",
       "  </tbody>\n",
       "</table>\n",
       "</div>"
      ],
      "text/plain": [
       "                             name  water_ratio\n",
       "0  British Indian Ocean Territory     0.998897\n",
       "1                  Virgin Islands     0.818848"
      ]
     },
     "execution_count": 11,
     "metadata": {},
     "output_type": "execute_result"
    }
   ],
   "source": [
    "# Countries with more water than land\n",
    "\n",
    "q9 = \"Select name, cast(area_water as float) / cast(area as float) water_ratio from facts where water_ratio > 0.5 order by water_ratio desc\"\n",
    "more_water = pd.read_sql_query(q9, conn)\n",
    "\n",
    "more_water"
   ]
  }
 ],
 "metadata": {
  "kernelspec": {
   "display_name": "Python 3",
   "language": "python",
   "name": "python3"
  },
  "language_info": {
   "codemirror_mode": {
    "name": "ipython",
    "version": 3
   },
   "file_extension": ".py",
   "mimetype": "text/x-python",
   "name": "python",
   "nbconvert_exporter": "python",
   "pygments_lexer": "ipython3",
   "version": "3.4.3"
  }
 },
 "nbformat": 4,
 "nbformat_minor": 2
}
