{
 "cells": [
  {
   "cell_type": "markdown",
   "metadata": {},
   "source": [
    "# Fandango Bias Project\n",
    "\n",
    "The goal of this project is to examine Fandango recent movie rating and determine whether a fix to their \"round-up\" bug has been implemented. If not, it's reasonable to assume the original bug was intentional."
   ]
  },
  {
   "cell_type": "code",
   "execution_count": 1,
   "metadata": {
    "collapsed": false
   },
   "outputs": [
    {
     "name": "stdout",
     "output_type": "stream",
     "text": [
      "(146, 22)\n",
      "Index(['FILM', 'RottenTomatoes', 'RottenTomatoes_User', 'Metacritic',\n",
      "       'Metacritic_User', 'IMDB', 'Fandango_Stars', 'Fandango_Ratingvalue',\n",
      "       'RT_norm', 'RT_user_norm', 'Metacritic_norm', 'Metacritic_user_nom',\n",
      "       'IMDB_norm', 'RT_norm_round', 'RT_user_norm_round',\n",
      "       'Metacritic_norm_round', 'Metacritic_user_norm_round',\n",
      "       'IMDB_norm_round', 'Metacritic_user_vote_count', 'IMDB_user_vote_count',\n",
      "       'Fandango_votes', 'Fandango_Difference'],\n",
      "      dtype='object')\n"
     ]
    }
   ],
   "source": [
    "import pandas as pd\n",
    "import csv\n",
    "\n",
    "fandango = pd.read_csv('fandango_score_comparison.csv')\n",
    "\n",
    "print(fandango.shape)\n",
    "print(fandango.columns)"
   ]
  },
  {
   "cell_type": "code",
   "execution_count": 2,
   "metadata": {
    "collapsed": false
   },
   "outputs": [
    {
     "name": "stdout",
     "output_type": "stream",
     "text": [
      "                             FILM  RottenTomatoes  RottenTomatoes_User  \\\n",
      "0  Avengers: Age of Ultron (2015)              74                   86   \n",
      "1               Cinderella (2015)              85                   80   \n",
      "2                  Ant-Man (2015)              80                   90   \n",
      "3          Do You Believe? (2015)              18                   84   \n",
      "4   Hot Tub Time Machine 2 (2015)              14                   28   \n",
      "\n",
      "   Metacritic  Metacritic_User  IMDB  Fandango_Stars  Fandango_Ratingvalue  \\\n",
      "0          66              7.1   7.8             5.0                   4.5   \n",
      "1          67              7.5   7.1             5.0                   4.5   \n",
      "2          64              8.1   7.8             5.0                   4.5   \n",
      "3          22              4.7   5.4             5.0                   4.5   \n",
      "4          29              3.4   5.1             3.5                   3.0   \n",
      "\n",
      "   RT_norm  RT_user_norm         ...           IMDB_norm  RT_norm_round  \\\n",
      "0     3.70           4.3         ...                3.90            3.5   \n",
      "1     4.25           4.0         ...                3.55            4.5   \n",
      "2     4.00           4.5         ...                3.90            4.0   \n",
      "3     0.90           4.2         ...                2.70            1.0   \n",
      "4     0.70           1.4         ...                2.55            0.5   \n",
      "\n",
      "   RT_user_norm_round  Metacritic_norm_round  Metacritic_user_norm_round  \\\n",
      "0                 4.5                    3.5                         3.5   \n",
      "1                 4.0                    3.5                         4.0   \n",
      "2                 4.5                    3.0                         4.0   \n",
      "3                 4.0                    1.0                         2.5   \n",
      "4                 1.5                    1.5                         1.5   \n",
      "\n",
      "   IMDB_norm_round  Metacritic_user_vote_count  IMDB_user_vote_count  \\\n",
      "0              4.0                        1330                271107   \n",
      "1              3.5                         249                 65709   \n",
      "2              4.0                         627                103660   \n",
      "3              2.5                          31                  3136   \n",
      "4              2.5                          88                 19560   \n",
      "\n",
      "   Fandango_votes  Fandango_Difference  \n",
      "0           14846                  0.5  \n",
      "1           12640                  0.5  \n",
      "2           12055                  0.5  \n",
      "3            1793                  0.5  \n",
      "4            1021                  0.5  \n",
      "\n",
      "[5 rows x 22 columns]\n"
     ]
    }
   ],
   "source": [
    "print(fandango.head(5))"
   ]
  },
  {
   "cell_type": "code",
   "execution_count": 3,
   "metadata": {
    "collapsed": false
   },
   "outputs": [
    {
     "name": "stdout",
     "output_type": "stream",
     "text": [
      "(214, 15)\n",
      "Index(['movie', 'year', 'metascore', 'imdb', 'tmeter', 'audience', 'fandango',\n",
      "       'n_metascore', 'n_imdb', 'n_tmeter', 'n_audience', 'nr_metascore',\n",
      "       'nr_imdb', 'nr_tmeter', 'nr_audience'],\n",
      "      dtype='object')\n"
     ]
    }
   ],
   "source": [
    "movie_1617 = pd.read_csv(\"movie_ratings_16_17.csv\")\n",
    "\n",
    "print(movie_1617.shape)\n",
    "print(movie_1617.columns)"
   ]
  },
  {
   "cell_type": "code",
   "execution_count": 4,
   "metadata": {
    "collapsed": false
   },
   "outputs": [
    {
     "name": "stdout",
     "output_type": "stream",
     "text": [
      "                     movie  year  metascore  imdb  tmeter  audience  fandango  \\\n",
      "0      10 Cloverfield Lane  2016         76   7.2      90        79       3.5   \n",
      "1                 13 Hours  2016         48   7.3      50        83       4.5   \n",
      "2      A Cure for Wellness  2016         47   6.6      40        47       3.0   \n",
      "3          A Dog's Purpose  2017         43   5.2      33        76       4.5   \n",
      "4  A Hologram for the King  2016         58   6.1      70        57       3.0   \n",
      "\n",
      "   n_metascore  n_imdb  n_tmeter  n_audience  nr_metascore  nr_imdb  \\\n",
      "0         3.80    3.60      4.50        3.95           4.0      3.5   \n",
      "1         2.40    3.65      2.50        4.15           2.5      3.5   \n",
      "2         2.35    3.30      2.00        2.35           2.5      3.5   \n",
      "3         2.15    2.60      1.65        3.80           2.0      2.5   \n",
      "4         2.90    3.05      3.50        2.85           3.0      3.0   \n",
      "\n",
      "   nr_tmeter  nr_audience  \n",
      "0        4.5          4.0  \n",
      "1        2.5          4.0  \n",
      "2        2.0          2.5  \n",
      "3        1.5          4.0  \n",
      "4        3.5          3.0  \n"
     ]
    }
   ],
   "source": [
    "print(movie_1617.head(5))"
   ]
  },
  {
   "cell_type": "code",
   "execution_count": 5,
   "metadata": {
    "collapsed": false
   },
   "outputs": [
    {
     "name": "stdout",
     "output_type": "stream",
     "text": [
      "                             FILM  Fandango_Stars  Fandango_Ratingvalue  \\\n",
      "0  Avengers: Age of Ultron (2015)             5.0                   4.5   \n",
      "1               Cinderella (2015)             5.0                   4.5   \n",
      "2                  Ant-Man (2015)             5.0                   4.5   \n",
      "3          Do You Believe? (2015)             5.0                   4.5   \n",
      "4   Hot Tub Time Machine 2 (2015)             3.5                   3.0   \n",
      "\n",
      "   Fandango_votes  Fandango_Difference  \n",
      "0           14846                  0.5  \n",
      "1           12640                  0.5  \n",
      "2           12055                  0.5  \n",
      "3            1793                  0.5  \n",
      "4            1021                  0.5  \n"
     ]
    }
   ],
   "source": [
    "fan_col = ['FILM', 'Fandango_Stars', 'Fandango_Ratingvalue', 'Fandango_votes', 'Fandango_Difference']\n",
    "fandango = fandango[fan_col]\n",
    "print(fandango.head(5))"
   ]
  },
  {
   "cell_type": "code",
   "execution_count": 6,
   "metadata": {
    "collapsed": false
   },
   "outputs": [
    {
     "name": "stdout",
     "output_type": "stream",
     "text": [
      "                     movie  year  fandango\n",
      "0      10 Cloverfield Lane  2016       3.5\n",
      "1                 13 Hours  2016       4.5\n",
      "2      A Cure for Wellness  2016       3.0\n",
      "3          A Dog's Purpose  2017       4.5\n",
      "4  A Hologram for the King  2016       3.0\n"
     ]
    }
   ],
   "source": [
    "movie_col = ['movie', 'year', 'fandango']\n",
    "movie_1617 = movie_1617[movie_col]\n",
    "\n",
    "print(movie_1617.head(5))"
   ]
  },
  {
   "cell_type": "markdown",
   "metadata": {},
   "source": [
    "# Are the samples random?\n",
    "\n",
    "From Hickey's article and from the README.md of the data set's repository, we can see that he used the following sampling criteria:\n",
    "\n",
    "The movie must have had at least 30 fan ratings on Fandango's website at the time of sampling (Aug. 24, 2015).\n",
    "The movie must have had tickets on sale in 2015.\n",
    "The sampling was clearly not random because not every movie had the same chance to be included in the sample — some movies didn't have a chance at all (like those with under 30 fan reviews or those without tickets on sale in 2015). It's questionable whether this sample is representative of the entire population we're interested to describe. It's much more likely that it isn't, mostly because this sample is subject to temporal trends — e.g. movies in 2015 might have been outstandingly good or bad compared to other years.\n",
    "\n",
    "The sampling conditions for our other sample were (as it can be read in the README.md of the data set's repository):\n",
    "\n",
    "The movie must have been released in 2016 or later.\n",
    "The movie must have had a considerable number of votes and reviews (unclear how many from the README.md or from the data).\n",
    "This second sample is also subject to temporal trends and it's unlikely to be representative of our population of interest."
   ]
  },
  {
   "cell_type": "markdown",
   "metadata": {},
   "source": [
    "# Changing the Goal of our Analysis\n",
    "Instead of trying to determine whether there has been any change in Fandango's rating system after Hickey's analysis, our new goal is to determine whether there's any difference between Fandango's ratings for popular movies in 2015 and Fandango's ratings for popular movies in 2016. This new goal should also be a fairly good proxy for our initial goal."
   ]
  },
  {
   "cell_type": "code",
   "execution_count": 7,
   "metadata": {
    "collapsed": false
   },
   "outputs": [
    {
     "name": "stdout",
     "output_type": "stream",
     "text": [
      "21            Before the Flood\n",
      "54       Fifty Shades of Black\n",
      "84                Jason Bourne\n",
      "102      Manchester by the Sea\n",
      "26                Blood Father\n",
      "202           Under the Shadow\n",
      "208                   Why Him?\n",
      "28                  Busanhaeng\n",
      "6       A Street Cat Named Bob\n",
      "161    The Autopsy of Jane Doe\n",
      "Name: movie, dtype: object\n"
     ]
    }
   ],
   "source": [
    "previous = fandango\n",
    "after = movie_1617\n",
    "\n",
    "sample_after = after.sample(10, random_state=5) \n",
    "print(sample_after['movie'])"
   ]
  },
  {
   "cell_type": "code",
   "execution_count": 8,
   "metadata": {
    "collapsed": false
   },
   "outputs": [
    {
     "name": "stdout",
     "output_type": "stream",
     "text": [
      "                       movie  year  fandango  reviews\n",
      "21          Before the Flood  2016       3.5        7\n",
      "54     Fifty Shades of Black  2016       2.5     1500\n",
      "84              Jason Bourne  2016       4.0    16294\n",
      "102    Manchester by the Sea  2016       3.5     3480\n",
      "26              Blood Father  2016       4.0       45\n",
      "202         Under the Shadow  2016       4.0        8\n",
      "208                 Why Him?  2016       4.0     2727\n",
      "28                Busanhaeng  2016       4.5      274\n",
      "6     A Street Cat Named Bob  2016       4.5       40\n",
      "161  The Autopsy of Jane Doe  2016       4.5       40\n"
     ]
    }
   ],
   "source": [
    "sample_after['reviews'] = [7, 1500, 16294, 3480, 45, 8, 2727, 274, 40, 40]\n",
    "\n",
    "print(sample_after)"
   ]
  },
  {
   "cell_type": "markdown",
   "metadata": {},
   "source": [
    "80% of the sample has more than 30 reviews, which is \"kind of\" justify the sample representavitity. "
   ]
  },
  {
   "cell_type": "code",
   "execution_count": 9,
   "metadata": {
    "collapsed": false
   },
   "outputs": [],
   "source": [
    "previous['year'] = previous['FILM'].str[-5:-1]\n",
    "\n",
    "previous_2015 = previous[previous['year'] == '2015']\n",
    "\n",
    "after_2016 = after[after['year'] == 2016]"
   ]
  },
  {
   "cell_type": "code",
   "execution_count": 10,
   "metadata": {
    "collapsed": false
   },
   "outputs": [
    {
     "data": {
      "image/png": "[encoded data removed]",
      "text/plain": [
       "<matplotlib.figure.Figure at 0x7f3a1099ee80>"
      ]
     },
     "metadata": {},
     "output_type": "display_data"
    }
   ],
   "source": [
    "import matplotlib.pyplot as plt\n",
    "import seaborn as sns\n",
    "%matplotlib inline\n",
    "plt.style.use('fivethirtyeight')\n",
    "\n",
    "previous_2015['Fandango_Stars'].plot.kde(label='2015', legend=True, figsize = (8,5.5))\n",
    "after_2016['fandango'].plot.kde(label='2016', legend=True)\n",
    "\n",
    "plt.title('Fandango Movie Ratings\\n2015 vs. 2016\\n',fontsize=15)\n",
    "plt.xlim(0, 5)\n",
    "plt.xticks([0, 0.5, 1.0, 1.5, 2.0, 2.5, 3.0, 3.5, 4.0, 4.5, 5.0])\n",
    "plt.legend(loc='upper left', fontsize=15)\n",
    "plt.xlabel('Fandango Movie Rating')\n",
    "plt.ylabel('Density')\n",
    "\n",
    "plt.show()"
   ]
  },
  {
   "cell_type": "markdown",
   "metadata": {},
   "source": [
    "# Compare plots\n",
    "\n",
    "Two aspects are striking on the figure above:\n",
    "\n",
    "- Both distributions are strongly left skewed.\n",
    "- The 2016 distribution is slightly shifted to the left.\n",
    "\n",
    "The left skew suggests that movies on Fandango are given mostly high and very high fan ratings. Coupled with the fact that Fandango sells tickets, the high ratings are a bit dubious. It'd be really interesting to investigate this further — ideally in a separate project, since this is quite irrelevant for the current goal of our analysis.\n",
    "\n",
    "The slight left shift of the 2016 distribution is very interesting for our analysis. It shows that ratings were slightly lower in 2016 compared to 2015. This confirms that there was a difference indeed between Fandango's ratings for popular movies in 2015 and Fandango's ratings for popular movies in 2016"
   ]
  },
  {
   "cell_type": "code",
   "execution_count": 11,
   "metadata": {
    "collapsed": false
   },
   "outputs": [
    {
     "data": {
      "text/plain": [
       "3.0     8.527132\n",
       "3.5    17.829457\n",
       "4.0    28.682171\n",
       "4.5    37.984496\n",
       "5.0     6.976744\n",
       "Name: Fandango_Stars, dtype: float64"
      ]
     },
     "execution_count": 11,
     "metadata": {},
     "output_type": "execute_result"
    }
   ],
   "source": [
    "previous_2015['Fandango_Stars'].value_counts(normalize=True).sort_index() * 100"
   ]
  },
  {
   "cell_type": "code",
   "execution_count": 12,
   "metadata": {
    "collapsed": false
   },
   "outputs": [
    {
     "data": {
      "text/plain": [
       "2.5     3.141361\n",
       "3.0     7.329843\n",
       "3.5    24.083770\n",
       "4.0    40.314136\n",
       "4.5    24.607330\n",
       "5.0     0.523560\n",
       "Name: fandango, dtype: float64"
      ]
     },
     "execution_count": 12,
     "metadata": {},
     "output_type": "execute_result"
    }
   ],
   "source": [
    "after_2016['fandango'].value_counts(normalize=True).sort_index() * 100"
   ]
  },
  {
   "cell_type": "markdown",
   "metadata": {},
   "source": [
    "\n",
    "In 2016, very high ratings (4.5 and 5 stars) had significantly lower percentages compared to 2015. In 2016, under 1% of the movies were given a perfect rating of 5 stars, compared to 2015 when the percentage was close to 7%. Ratings of 4.5 were also more popular in 2015 — there were approximately 13% more movies rated with a 4.5 in 2015 compared to 2016.\n",
    "\n",
    "The minimum rating is also lower in 2016 — 2.5 instead of 3 stars, the minimum of 2015. There clearly is a difference between the two frequency distributions.\n",
    "\n",
    "For some other ratings, the percentage went up in 2016. There was a greater percentage of movies in 2016 that received 3.5 and 4 stars, compared to 2015. 3.5 and 4.0 are high ratings and this challenges the direction of the change we saw on the kernel density plots."
   ]
  },
  {
   "cell_type": "code",
   "execution_count": 13,
   "metadata": {
    "collapsed": false
   },
   "outputs": [
    {
     "name": "stdout",
     "output_type": "stream",
     "text": [
      "            2015      2016\n",
      "mean    4.085271  3.887435\n",
      "median  4.000000  4.000000\n",
      "mode    4.500000  4.000000\n"
     ]
    }
   ],
   "source": [
    "previous_mean = previous_2015['Fandango_Stars'].mean()\n",
    "after_mean = after_2016['fandango'].mean()\n",
    "\n",
    "previous_median = previous_2015['Fandango_Stars'].median()\n",
    "after_median = after_2016['fandango'].median()\n",
    "\n",
    "previous_mode = previous_2015['Fandango_Stars'].mode()[0]\n",
    "after_mode = after_2016['fandango'].mode()[0]\n",
    "\n",
    "summary = pd.DataFrame()\n",
    "\n",
    "summary['2015'] = [previous_mean, previous_median, previous_mode]\n",
    "summary['2016'] = [after_mean, after_median, after_mode]\n",
    "summary.index = ['mean', 'median', 'mode']\n",
    "\n",
    "print(summary)"
   ]
  },
  {
   "cell_type": "code",
   "execution_count": 153,
   "metadata": {
    "collapsed": false,
    "scrolled": true
   },
   "outputs": [
    {
     "data": {
      "image/png": "[encoded data removed]",
      "text/plain": [
       "<matplotlib.figure.Figure at 0x7f3a0df0dda0>"
      ]
     },
     "metadata": {},
     "output_type": "display_data"
    }
   ],
   "source": [
    "import numpy as np\n",
    "\n",
    "plt.style.use('fivethirtyeight')\n",
    "summary['2015'].plot.bar(color = '#0066FF', align = 'center', label = '2015', width = .25)\n",
    "summary['2016'].plot.bar(color = '#CC0000', align = 'edge', label = '2016', width = .25,\n",
    "                         rot = 0, figsize = (8,5))\n",
    "\n",
    "plt.ylim(0, 5.5)\n",
    "plt.yticks(np.arange(0, 5.1, 0.5))\n",
    "plt.legend(loc='upper center', fontsize='medium')\n",
    "plt.title('Comparing summary statistics: 2015 vs 2016\\n', fontsize = 20, y = 1)\n",
    "plt.ylabel('Stars')\n",
    "plt.tick_params(labelsize='large')"
   ]
  },
  {
   "cell_type": "markdown",
   "metadata": {},
   "source": [
    "# Conclusion\n",
    "\n",
    "Our analysis showed that there's indeed a slight difference between Fandango's ratings for popular movies in 2015 and Fandango's ratings for popular movies in 2016. We also determined that, on average, popular movies released in 2016 were rated lower on Fandango than popular movies released in 2015."
   ]
  }
 ],
 "metadata": {
  "kernelspec": {
   "display_name": "Python 3",
   "language": "python",
   "name": "python3"
  },
  "language_info": {
   "codemirror_mode": {
    "name": "ipython",
    "version": 3
   },
   "file_extension": ".py",
   "mimetype": "text/x-python",
   "name": "python",
   "nbconvert_exporter": "python",
   "pygments_lexer": "ipython3",
   "version": "3.4.3"
  }
 },
 "nbformat": 4,
 "nbformat_minor": 2
}
